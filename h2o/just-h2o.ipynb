{
 "cells": [
  {
   "cell_type": "code",
   "execution_count": 1,
   "metadata": {},
   "outputs": [],
   "source": [
    "import h2o\n",
    "from h2o.estimators.gbm import H2OGradientBoostingEstimator"
   ]
  },
  {
   "cell_type": "code",
   "execution_count": 2,
   "metadata": {},
   "outputs": [
    {
     "name": "stdout",
     "output_type": "stream",
     "text": [
      "Checking whether there is an H2O instance running at http://localhost:54321..... not found.\n",
      "Attempting to start a local H2O server...\n",
      "  Java Version: openjdk version \"1.8.0_121\"; OpenJDK Runtime Environment (Zulu 8.20.0.5-linux64) (build 1.8.0_121-b15); OpenJDK 64-Bit Server VM (Zulu 8.20.0.5-linux64) (build 25.121-b15, mixed mode)\n",
      "  Starting server from /opt/anaconda/lib/python3.6/site-packages/h2o/backend/bin/h2o.jar\n",
      "  Ice root: /tmp/tmpfvgi_po_\n",
      "  JVM stdout: /tmp/tmpfvgi_po_/h2o_ubuntu_started_from_python.out\n",
      "  JVM stderr: /tmp/tmpfvgi_po_/h2o_ubuntu_started_from_python.err\n",
      "  Server is running at http://127.0.0.1:54321\n",
      "Connecting to H2O server at http://127.0.0.1:54321... successful.\n"
     ]
    },
    {
     "data": {
      "text/html": [
       "<div style=\"overflow:auto\"><table style=\"width:50%\"><tr><td>H2O cluster uptime:</td>\n",
       "<td>01 secs</td></tr>\n",
       "<tr><td>H2O cluster timezone:</td>\n",
       "<td>Etc/UTC</td></tr>\n",
       "<tr><td>H2O data parsing timezone:</td>\n",
       "<td>UTC</td></tr>\n",
       "<tr><td>H2O cluster version:</td>\n",
       "<td>3.18.0.4</td></tr>\n",
       "<tr><td>H2O cluster version age:</td>\n",
       "<td>16 days </td></tr>\n",
       "<tr><td>H2O cluster name:</td>\n",
       "<td>H2O_from_python_ubuntu_ia8kre</td></tr>\n",
       "<tr><td>H2O cluster total nodes:</td>\n",
       "<td>1</td></tr>\n",
       "<tr><td>H2O cluster free memory:</td>\n",
       "<td>13.33 Gb</td></tr>\n",
       "<tr><td>H2O cluster total cores:</td>\n",
       "<td>4</td></tr>\n",
       "<tr><td>H2O cluster allowed cores:</td>\n",
       "<td>4</td></tr>\n",
       "<tr><td>H2O cluster status:</td>\n",
       "<td>accepting new members, healthy</td></tr>\n",
       "<tr><td>H2O connection url:</td>\n",
       "<td>http://127.0.0.1:54321</td></tr>\n",
       "<tr><td>H2O connection proxy:</td>\n",
       "<td>None</td></tr>\n",
       "<tr><td>H2O internal security:</td>\n",
       "<td>False</td></tr>\n",
       "<tr><td>H2O API Extensions:</td>\n",
       "<td>XGBoost, Algos, AutoML, Core V3, Core V4</td></tr>\n",
       "<tr><td>Python version:</td>\n",
       "<td>3.6.3 final</td></tr></table></div>"
      ],
      "text/plain": [
       "--------------------------  ----------------------------------------\n",
       "H2O cluster uptime:         01 secs\n",
       "H2O cluster timezone:       Etc/UTC\n",
       "H2O data parsing timezone:  UTC\n",
       "H2O cluster version:        3.18.0.4\n",
       "H2O cluster version age:    16 days\n",
       "H2O cluster name:           H2O_from_python_ubuntu_ia8kre\n",
       "H2O cluster total nodes:    1\n",
       "H2O cluster free memory:    13.33 Gb\n",
       "H2O cluster total cores:    4\n",
       "H2O cluster allowed cores:  4\n",
       "H2O cluster status:         accepting new members, healthy\n",
       "H2O connection url:         http://127.0.0.1:54321\n",
       "H2O connection proxy:\n",
       "H2O internal security:      False\n",
       "H2O API Extensions:         XGBoost, Algos, AutoML, Core V3, Core V4\n",
       "Python version:             3.6.3 final\n",
       "--------------------------  ----------------------------------------"
      ]
     },
     "metadata": {},
     "output_type": "display_data"
    }
   ],
   "source": [
    "h2o.init()"
   ]
  },
  {
   "cell_type": "code",
   "execution_count": 3,
   "metadata": {},
   "outputs": [],
   "source": [
    "iris_data_path = \"http://h2o-public-test-data.s3.amazonaws.com/smalldata/iris/iris.csv\""
   ]
  },
  {
   "cell_type": "code",
   "execution_count": 4,
   "metadata": {},
   "outputs": [
    {
     "name": "stdout",
     "output_type": "stream",
     "text": [
      "Parse progress: |█████████████████████████████████████████████████████████| 100%\n"
     ]
    }
   ],
   "source": [
    "iris_df = h2o.import_file(path=iris_data_path)"
   ]
  },
  {
   "cell_type": "code",
   "execution_count": 5,
   "metadata": {},
   "outputs": [
    {
     "data": {
      "text/html": [
       "<table>\n",
       "<thead>\n",
       "<tr><th style=\"text-align: right;\">  C1</th><th style=\"text-align: right;\">  C2</th><th style=\"text-align: right;\">  C3</th><th style=\"text-align: right;\">  C4</th><th>C5         </th></tr>\n",
       "</thead>\n",
       "<tbody>\n",
       "<tr><td style=\"text-align: right;\"> 5.1</td><td style=\"text-align: right;\"> 3.5</td><td style=\"text-align: right;\"> 1.4</td><td style=\"text-align: right;\"> 0.2</td><td>Iris-setosa</td></tr>\n",
       "<tr><td style=\"text-align: right;\"> 4.9</td><td style=\"text-align: right;\"> 3  </td><td style=\"text-align: right;\"> 1.4</td><td style=\"text-align: right;\"> 0.2</td><td>Iris-setosa</td></tr>\n",
       "<tr><td style=\"text-align: right;\"> 4.7</td><td style=\"text-align: right;\"> 3.2</td><td style=\"text-align: right;\"> 1.3</td><td style=\"text-align: right;\"> 0.2</td><td>Iris-setosa</td></tr>\n",
       "<tr><td style=\"text-align: right;\"> 4.6</td><td style=\"text-align: right;\"> 3.1</td><td style=\"text-align: right;\"> 1.5</td><td style=\"text-align: right;\"> 0.2</td><td>Iris-setosa</td></tr>\n",
       "<tr><td style=\"text-align: right;\"> 5  </td><td style=\"text-align: right;\"> 3.6</td><td style=\"text-align: right;\"> 1.4</td><td style=\"text-align: right;\"> 0.2</td><td>Iris-setosa</td></tr>\n",
       "<tr><td style=\"text-align: right;\"> 5.4</td><td style=\"text-align: right;\"> 3.9</td><td style=\"text-align: right;\"> 1.7</td><td style=\"text-align: right;\"> 0.4</td><td>Iris-setosa</td></tr>\n",
       "<tr><td style=\"text-align: right;\"> 4.6</td><td style=\"text-align: right;\"> 3.4</td><td style=\"text-align: right;\"> 1.4</td><td style=\"text-align: right;\"> 0.3</td><td>Iris-setosa</td></tr>\n",
       "<tr><td style=\"text-align: right;\"> 5  </td><td style=\"text-align: right;\"> 3.4</td><td style=\"text-align: right;\"> 1.5</td><td style=\"text-align: right;\"> 0.2</td><td>Iris-setosa</td></tr>\n",
       "<tr><td style=\"text-align: right;\"> 4.4</td><td style=\"text-align: right;\"> 2.9</td><td style=\"text-align: right;\"> 1.4</td><td style=\"text-align: right;\"> 0.2</td><td>Iris-setosa</td></tr>\n",
       "<tr><td style=\"text-align: right;\"> 4.9</td><td style=\"text-align: right;\"> 3.1</td><td style=\"text-align: right;\"> 1.5</td><td style=\"text-align: right;\"> 0.1</td><td>Iris-setosa</td></tr>\n",
       "</tbody>\n",
       "</table>"
      ]
     },
     "metadata": {},
     "output_type": "display_data"
    },
    {
     "data": {
      "text/plain": []
     },
     "execution_count": 5,
     "metadata": {},
     "output_type": "execute_result"
    }
   ],
   "source": [
    "iris_df"
   ]
  },
  {
   "cell_type": "code",
   "execution_count": 6,
   "metadata": {},
   "outputs": [
    {
     "name": "stdout",
     "output_type": "stream",
     "text": [
      "Rows:150\n",
      "Cols:5\n",
      "\n",
      "\n"
     ]
    },
    {
     "data": {
      "text/html": [
       "<table>\n",
       "<thead>\n",
       "<tr><th>       </th><th>C1                </th><th>C2                 </th><th>C3               </th><th>C4                </th><th>C5         </th></tr>\n",
       "</thead>\n",
       "<tbody>\n",
       "<tr><td>type   </td><td>real              </td><td>real               </td><td>real             </td><td>real              </td><td>enum       </td></tr>\n",
       "<tr><td>mins   </td><td>4.3               </td><td>2.0                </td><td>1.0              </td><td>0.1               </td><td>           </td></tr>\n",
       "<tr><td>mean   </td><td>5.843333333333333 </td><td>3.053999999999999  </td><td>3.758666666666667</td><td>1.1986666666666665</td><td>           </td></tr>\n",
       "<tr><td>maxs   </td><td>7.9               </td><td>4.4                </td><td>6.9              </td><td>2.5               </td><td>           </td></tr>\n",
       "<tr><td>sigma  </td><td>0.8280661279778637</td><td>0.43359431136217375</td><td>1.764420419952262</td><td>0.7631607417008414</td><td>           </td></tr>\n",
       "<tr><td>zeros  </td><td>0                 </td><td>0                  </td><td>0                </td><td>0                 </td><td>           </td></tr>\n",
       "<tr><td>missing</td><td>0                 </td><td>0                  </td><td>0                </td><td>0                 </td><td>0          </td></tr>\n",
       "<tr><td>0      </td><td>5.1               </td><td>3.5                </td><td>1.4              </td><td>0.2               </td><td>Iris-setosa</td></tr>\n",
       "<tr><td>1      </td><td>4.9               </td><td>3.0                </td><td>1.4              </td><td>0.2               </td><td>Iris-setosa</td></tr>\n",
       "<tr><td>2      </td><td>4.7               </td><td>3.2                </td><td>1.3              </td><td>0.2               </td><td>Iris-setosa</td></tr>\n",
       "<tr><td>3      </td><td>4.6               </td><td>3.1                </td><td>1.5              </td><td>0.2               </td><td>Iris-setosa</td></tr>\n",
       "<tr><td>4      </td><td>5.0               </td><td>3.6                </td><td>1.4              </td><td>0.2               </td><td>Iris-setosa</td></tr>\n",
       "<tr><td>5      </td><td>5.4               </td><td>3.9                </td><td>1.7              </td><td>0.4               </td><td>Iris-setosa</td></tr>\n",
       "<tr><td>6      </td><td>4.6               </td><td>3.4                </td><td>1.4              </td><td>0.3               </td><td>Iris-setosa</td></tr>\n",
       "<tr><td>7      </td><td>5.0               </td><td>3.4                </td><td>1.5              </td><td>0.2               </td><td>Iris-setosa</td></tr>\n",
       "<tr><td>8      </td><td>4.4               </td><td>2.9                </td><td>1.4              </td><td>0.2               </td><td>Iris-setosa</td></tr>\n",
       "<tr><td>9      </td><td>4.9               </td><td>3.1                </td><td>1.5              </td><td>0.1               </td><td>Iris-setosa</td></tr>\n",
       "</tbody>\n",
       "</table>"
      ]
     },
     "metadata": {},
     "output_type": "display_data"
    }
   ],
   "source": [
    "iris_df.describe()"
   ]
  },
  {
   "cell_type": "code",
   "execution_count": 7,
   "metadata": {},
   "outputs": [],
   "source": [
    "gbm_classifier = H2OGradientBoostingEstimator(distribution=\"multinomial\", ntrees=10, max_depth=3, min_rows=2, learn_rate=0.2)"
   ]
  },
  {
   "cell_type": "code",
   "execution_count": 8,
   "metadata": {},
   "outputs": [
    {
     "name": "stdout",
     "output_type": "stream",
     "text": [
      "gbm Model Build progress: |███████████████████████████████████████████████| 100%\n"
     ]
    }
   ],
   "source": [
    "gbm_classifier.train(x=list(range(0, iris_df.ncol - 1)), y=(iris_df.ncol - 1), training_frame=iris_df)"
   ]
  },
  {
   "cell_type": "code",
   "execution_count": 9,
   "metadata": {},
   "outputs": [
    {
     "name": "stdout",
     "output_type": "stream",
     "text": [
      "Model Details\n",
      "=============\n",
      "H2OGradientBoostingEstimator :  Gradient Boosting Machine\n",
      "Model Key:  GBM_model_python_1521937014272_1\n",
      "\n",
      "\n",
      "ModelMetricsMultinomial: gbm\n",
      "** Reported on train data. **\n",
      "\n",
      "MSE: 0.009766853032138395\n",
      "RMSE: 0.09882739009069498\n",
      "LogLoss: 0.07824809736958013\n",
      "Mean Per-Class Error: 0.006666666666666667\n",
      "Confusion Matrix: Row labels: Actual class; Column labels: Predicted class\n",
      "\n"
     ]
    },
    {
     "data": {
      "text/html": [
       "<div style=\"overflow:auto\"><table style=\"width:50%\"><tr><td><b>Iris-setosa</b></td>\n",
       "<td><b>Iris-versicolor</b></td>\n",
       "<td><b>Iris-virginica</b></td>\n",
       "<td><b>Error</b></td>\n",
       "<td><b>Rate</b></td></tr>\n",
       "<tr><td>50.0</td>\n",
       "<td>0.0</td>\n",
       "<td>0.0</td>\n",
       "<td>0.0</td>\n",
       "<td>0 / 50</td></tr>\n",
       "<tr><td>0.0</td>\n",
       "<td>49.0</td>\n",
       "<td>1.0</td>\n",
       "<td>0.02</td>\n",
       "<td>1 / 50</td></tr>\n",
       "<tr><td>0.0</td>\n",
       "<td>0.0</td>\n",
       "<td>50.0</td>\n",
       "<td>0.0</td>\n",
       "<td>0 / 50</td></tr>\n",
       "<tr><td>50.0</td>\n",
       "<td>49.0</td>\n",
       "<td>51.0</td>\n",
       "<td>0.0066667</td>\n",
       "<td>1 / 150</td></tr></table></div>"
      ],
      "text/plain": [
       "Iris-setosa    Iris-versicolor    Iris-virginica    Error       Rate\n",
       "-------------  -----------------  ----------------  ----------  -------\n",
       "50             0                  0                 0           0 / 50\n",
       "0              49                 1                 0.02        1 / 50\n",
       "0              0                  50                0           0 / 50\n",
       "50             49                 51                0.00666667  1 / 150"
      ]
     },
     "metadata": {},
     "output_type": "display_data"
    },
    {
     "name": "stdout",
     "output_type": "stream",
     "text": [
      "Top-3 Hit Ratios: \n"
     ]
    },
    {
     "data": {
      "text/html": [
       "<div style=\"overflow:auto\"><table style=\"width:50%\"><tr><td><b>k</b></td>\n",
       "<td><b>hit_ratio</b></td></tr>\n",
       "<tr><td>1</td>\n",
       "<td>0.9933333</td></tr>\n",
       "<tr><td>2</td>\n",
       "<td>1.0</td></tr>\n",
       "<tr><td>3</td>\n",
       "<td>1.0</td></tr></table></div>"
      ],
      "text/plain": [
       "k    hit_ratio\n",
       "---  -----------\n",
       "1    0.993333\n",
       "2    1\n",
       "3    1"
      ]
     },
     "metadata": {},
     "output_type": "display_data"
    },
    {
     "name": "stdout",
     "output_type": "stream",
     "text": [
      "Scoring History: \n"
     ]
    },
    {
     "data": {
      "text/html": [
       "<div style=\"overflow:auto\"><table style=\"width:50%\"><tr><td><b></b></td>\n",
       "<td><b>timestamp</b></td>\n",
       "<td><b>duration</b></td>\n",
       "<td><b>number_of_trees</b></td>\n",
       "<td><b>training_rmse</b></td>\n",
       "<td><b>training_logloss</b></td>\n",
       "<td><b>training_classification_error</b></td></tr>\n",
       "<tr><td></td>\n",
       "<td>2018-03-25 00:16:57</td>\n",
       "<td> 0.037 sec</td>\n",
       "<td>0.0</td>\n",
       "<td>0.6666667</td>\n",
       "<td>1.0986123</td>\n",
       "<td>0.64</td></tr>\n",
       "<tr><td></td>\n",
       "<td>2018-03-25 00:16:57</td>\n",
       "<td> 0.184 sec</td>\n",
       "<td>1.0</td>\n",
       "<td>0.5313437</td>\n",
       "<td>0.7584115</td>\n",
       "<td>0.0266667</td></tr>\n",
       "<tr><td></td>\n",
       "<td>2018-03-25 00:16:57</td>\n",
       "<td> 0.213 sec</td>\n",
       "<td>2.0</td>\n",
       "<td>0.4233365</td>\n",
       "<td>0.5505065</td>\n",
       "<td>0.0266667</td></tr>\n",
       "<tr><td></td>\n",
       "<td>2018-03-25 00:16:57</td>\n",
       "<td> 0.244 sec</td>\n",
       "<td>3.0</td>\n",
       "<td>0.3390480</td>\n",
       "<td>0.4121733</td>\n",
       "<td>0.0266667</td></tr>\n",
       "<tr><td></td>\n",
       "<td>2018-03-25 00:16:57</td>\n",
       "<td> 0.266 sec</td>\n",
       "<td>4.0</td>\n",
       "<td>0.2728966</td>\n",
       "<td>0.3135394</td>\n",
       "<td>0.02</td></tr>\n",
       "<tr><td></td>\n",
       "<td>2018-03-25 00:16:57</td>\n",
       "<td> 0.288 sec</td>\n",
       "<td>5.0</td>\n",
       "<td>0.2232307</td>\n",
       "<td>0.2435139</td>\n",
       "<td>0.02</td></tr>\n",
       "<tr><td></td>\n",
       "<td>2018-03-25 00:16:57</td>\n",
       "<td> 0.304 sec</td>\n",
       "<td>6.0</td>\n",
       "<td>0.1846307</td>\n",
       "<td>0.1909104</td>\n",
       "<td>0.0066667</td></tr>\n",
       "<tr><td></td>\n",
       "<td>2018-03-25 00:16:57</td>\n",
       "<td> 0.321 sec</td>\n",
       "<td>7.0</td>\n",
       "<td>0.1552645</td>\n",
       "<td>0.1513943</td>\n",
       "<td>0.0066667</td></tr>\n",
       "<tr><td></td>\n",
       "<td>2018-03-25 00:16:57</td>\n",
       "<td> 0.336 sec</td>\n",
       "<td>8.0</td>\n",
       "<td>0.1326877</td>\n",
       "<td>0.1208821</td>\n",
       "<td>0.0066667</td></tr>\n",
       "<tr><td></td>\n",
       "<td>2018-03-25 00:16:57</td>\n",
       "<td> 0.351 sec</td>\n",
       "<td>9.0</td>\n",
       "<td>0.1144659</td>\n",
       "<td>0.0975897</td>\n",
       "<td>0.0066667</td></tr>\n",
       "<tr><td></td>\n",
       "<td>2018-03-25 00:16:57</td>\n",
       "<td> 0.367 sec</td>\n",
       "<td>10.0</td>\n",
       "<td>0.0988274</td>\n",
       "<td>0.0782481</td>\n",
       "<td>0.0066667</td></tr></table></div>"
      ],
      "text/plain": [
       "    timestamp            duration    number_of_trees    training_rmse    training_logloss    training_classification_error\n",
       "--  -------------------  ----------  -----------------  ---------------  ------------------  -------------------------------\n",
       "    2018-03-25 00:16:57  0.037 sec   0                  0.666667         1.09861             0.64\n",
       "    2018-03-25 00:16:57  0.184 sec   1                  0.531344         0.758411            0.0266667\n",
       "    2018-03-25 00:16:57  0.213 sec   2                  0.423337         0.550506            0.0266667\n",
       "    2018-03-25 00:16:57  0.244 sec   3                  0.339048         0.412173            0.0266667\n",
       "    2018-03-25 00:16:57  0.266 sec   4                  0.272897         0.313539            0.02\n",
       "    2018-03-25 00:16:57  0.288 sec   5                  0.223231         0.243514            0.02\n",
       "    2018-03-25 00:16:57  0.304 sec   6                  0.184631         0.19091             0.00666667\n",
       "    2018-03-25 00:16:57  0.321 sec   7                  0.155265         0.151394            0.00666667\n",
       "    2018-03-25 00:16:57  0.336 sec   8                  0.132688         0.120882            0.00666667\n",
       "    2018-03-25 00:16:57  0.351 sec   9                  0.114466         0.0975897           0.00666667\n",
       "    2018-03-25 00:16:57  0.367 sec   10                 0.0988274        0.0782481           0.00666667"
      ]
     },
     "metadata": {},
     "output_type": "display_data"
    },
    {
     "name": "stdout",
     "output_type": "stream",
     "text": [
      "Variable Importances: \n"
     ]
    },
    {
     "data": {
      "text/html": [
       "<div style=\"overflow:auto\"><table style=\"width:50%\"><tr><td><b>variable</b></td>\n",
       "<td><b>relative_importance</b></td>\n",
       "<td><b>scaled_importance</b></td>\n",
       "<td><b>percentage</b></td></tr>\n",
       "<tr><td>C4</td>\n",
       "<td>192.7606506</td>\n",
       "<td>1.0</td>\n",
       "<td>0.7743739</td></tr>\n",
       "<tr><td>C3</td>\n",
       "<td>54.0381165</td>\n",
       "<td>0.2803379</td>\n",
       "<td>0.2170864</td></tr>\n",
       "<tr><td>C1</td>\n",
       "<td>1.3527106</td>\n",
       "<td>0.0070176</td>\n",
       "<td>0.0054342</td></tr>\n",
       "<tr><td>C2</td>\n",
       "<td>0.7730322</td>\n",
       "<td>0.0040103</td>\n",
       "<td>0.0031055</td></tr></table></div>"
      ],
      "text/plain": [
       "variable    relative_importance    scaled_importance    percentage\n",
       "----------  ---------------------  -------------------  ------------\n",
       "C4          192.761                1                    0.774374\n",
       "C3          54.0381                0.280338             0.217086\n",
       "C1          1.35271                0.00701757           0.00543422\n",
       "C2          0.773032               0.00401032           0.00310549"
      ]
     },
     "metadata": {},
     "output_type": "display_data"
    },
    {
     "data": {
      "text/plain": []
     },
     "execution_count": 9,
     "metadata": {},
     "output_type": "execute_result"
    }
   ],
   "source": [
    "gbm_classifier"
   ]
  },
  {
   "cell_type": "code",
   "execution_count": 10,
   "metadata": {},
   "outputs": [
    {
     "name": "stdout",
     "output_type": "stream",
     "text": [
      "Model Details\n",
      "=============\n",
      "H2OGradientBoostingEstimator :  Gradient Boosting Machine\n",
      "Model Key:  GBM_model_python_1521937014272_1\n",
      "\n",
      "\n",
      "ModelMetricsMultinomial: gbm\n",
      "** Reported on train data. **\n",
      "\n",
      "MSE: 0.009766853032138395\n",
      "RMSE: 0.09882739009069498\n",
      "LogLoss: 0.07824809736958013\n",
      "Mean Per-Class Error: 0.006666666666666667\n",
      "Confusion Matrix: Row labels: Actual class; Column labels: Predicted class\n",
      "\n"
     ]
    },
    {
     "data": {
      "text/html": [
       "<div style=\"overflow:auto\"><table style=\"width:50%\"><tr><td><b>Iris-setosa</b></td>\n",
       "<td><b>Iris-versicolor</b></td>\n",
       "<td><b>Iris-virginica</b></td>\n",
       "<td><b>Error</b></td>\n",
       "<td><b>Rate</b></td></tr>\n",
       "<tr><td>50.0</td>\n",
       "<td>0.0</td>\n",
       "<td>0.0</td>\n",
       "<td>0.0</td>\n",
       "<td>0 / 50</td></tr>\n",
       "<tr><td>0.0</td>\n",
       "<td>49.0</td>\n",
       "<td>1.0</td>\n",
       "<td>0.02</td>\n",
       "<td>1 / 50</td></tr>\n",
       "<tr><td>0.0</td>\n",
       "<td>0.0</td>\n",
       "<td>50.0</td>\n",
       "<td>0.0</td>\n",
       "<td>0 / 50</td></tr>\n",
       "<tr><td>50.0</td>\n",
       "<td>49.0</td>\n",
       "<td>51.0</td>\n",
       "<td>0.0066667</td>\n",
       "<td>1 / 150</td></tr></table></div>"
      ],
      "text/plain": [
       "Iris-setosa    Iris-versicolor    Iris-virginica    Error       Rate\n",
       "-------------  -----------------  ----------------  ----------  -------\n",
       "50             0                  0                 0           0 / 50\n",
       "0              49                 1                 0.02        1 / 50\n",
       "0              0                  50                0           0 / 50\n",
       "50             49                 51                0.00666667  1 / 150"
      ]
     },
     "metadata": {},
     "output_type": "display_data"
    },
    {
     "name": "stdout",
     "output_type": "stream",
     "text": [
      "Top-3 Hit Ratios: \n"
     ]
    },
    {
     "data": {
      "text/html": [
       "<div style=\"overflow:auto\"><table style=\"width:50%\"><tr><td><b>k</b></td>\n",
       "<td><b>hit_ratio</b></td></tr>\n",
       "<tr><td>1</td>\n",
       "<td>0.9933333</td></tr>\n",
       "<tr><td>2</td>\n",
       "<td>1.0</td></tr>\n",
       "<tr><td>3</td>\n",
       "<td>1.0</td></tr></table></div>"
      ],
      "text/plain": [
       "k    hit_ratio\n",
       "---  -----------\n",
       "1    0.993333\n",
       "2    1\n",
       "3    1"
      ]
     },
     "metadata": {},
     "output_type": "display_data"
    },
    {
     "name": "stdout",
     "output_type": "stream",
     "text": [
      "Scoring History: \n"
     ]
    },
    {
     "data": {
      "text/html": [
       "<div style=\"overflow:auto\"><table style=\"width:50%\"><tr><td><b></b></td>\n",
       "<td><b>timestamp</b></td>\n",
       "<td><b>duration</b></td>\n",
       "<td><b>number_of_trees</b></td>\n",
       "<td><b>training_rmse</b></td>\n",
       "<td><b>training_logloss</b></td>\n",
       "<td><b>training_classification_error</b></td></tr>\n",
       "<tr><td></td>\n",
       "<td>2018-03-25 00:16:57</td>\n",
       "<td> 0.037 sec</td>\n",
       "<td>0.0</td>\n",
       "<td>0.6666667</td>\n",
       "<td>1.0986123</td>\n",
       "<td>0.64</td></tr>\n",
       "<tr><td></td>\n",
       "<td>2018-03-25 00:16:57</td>\n",
       "<td> 0.184 sec</td>\n",
       "<td>1.0</td>\n",
       "<td>0.5313437</td>\n",
       "<td>0.7584115</td>\n",
       "<td>0.0266667</td></tr>\n",
       "<tr><td></td>\n",
       "<td>2018-03-25 00:16:57</td>\n",
       "<td> 0.213 sec</td>\n",
       "<td>2.0</td>\n",
       "<td>0.4233365</td>\n",
       "<td>0.5505065</td>\n",
       "<td>0.0266667</td></tr>\n",
       "<tr><td></td>\n",
       "<td>2018-03-25 00:16:57</td>\n",
       "<td> 0.244 sec</td>\n",
       "<td>3.0</td>\n",
       "<td>0.3390480</td>\n",
       "<td>0.4121733</td>\n",
       "<td>0.0266667</td></tr>\n",
       "<tr><td></td>\n",
       "<td>2018-03-25 00:16:57</td>\n",
       "<td> 0.266 sec</td>\n",
       "<td>4.0</td>\n",
       "<td>0.2728966</td>\n",
       "<td>0.3135394</td>\n",
       "<td>0.02</td></tr>\n",
       "<tr><td></td>\n",
       "<td>2018-03-25 00:16:57</td>\n",
       "<td> 0.288 sec</td>\n",
       "<td>5.0</td>\n",
       "<td>0.2232307</td>\n",
       "<td>0.2435139</td>\n",
       "<td>0.02</td></tr>\n",
       "<tr><td></td>\n",
       "<td>2018-03-25 00:16:57</td>\n",
       "<td> 0.304 sec</td>\n",
       "<td>6.0</td>\n",
       "<td>0.1846307</td>\n",
       "<td>0.1909104</td>\n",
       "<td>0.0066667</td></tr>\n",
       "<tr><td></td>\n",
       "<td>2018-03-25 00:16:57</td>\n",
       "<td> 0.321 sec</td>\n",
       "<td>7.0</td>\n",
       "<td>0.1552645</td>\n",
       "<td>0.1513943</td>\n",
       "<td>0.0066667</td></tr>\n",
       "<tr><td></td>\n",
       "<td>2018-03-25 00:16:57</td>\n",
       "<td> 0.336 sec</td>\n",
       "<td>8.0</td>\n",
       "<td>0.1326877</td>\n",
       "<td>0.1208821</td>\n",
       "<td>0.0066667</td></tr>\n",
       "<tr><td></td>\n",
       "<td>2018-03-25 00:16:57</td>\n",
       "<td> 0.351 sec</td>\n",
       "<td>9.0</td>\n",
       "<td>0.1144659</td>\n",
       "<td>0.0975897</td>\n",
       "<td>0.0066667</td></tr>\n",
       "<tr><td></td>\n",
       "<td>2018-03-25 00:16:57</td>\n",
       "<td> 0.367 sec</td>\n",
       "<td>10.0</td>\n",
       "<td>0.0988274</td>\n",
       "<td>0.0782481</td>\n",
       "<td>0.0066667</td></tr></table></div>"
      ],
      "text/plain": [
       "    timestamp            duration    number_of_trees    training_rmse    training_logloss    training_classification_error\n",
       "--  -------------------  ----------  -----------------  ---------------  ------------------  -------------------------------\n",
       "    2018-03-25 00:16:57  0.037 sec   0                  0.666667         1.09861             0.64\n",
       "    2018-03-25 00:16:57  0.184 sec   1                  0.531344         0.758411            0.0266667\n",
       "    2018-03-25 00:16:57  0.213 sec   2                  0.423337         0.550506            0.0266667\n",
       "    2018-03-25 00:16:57  0.244 sec   3                  0.339048         0.412173            0.0266667\n",
       "    2018-03-25 00:16:57  0.266 sec   4                  0.272897         0.313539            0.02\n",
       "    2018-03-25 00:16:57  0.288 sec   5                  0.223231         0.243514            0.02\n",
       "    2018-03-25 00:16:57  0.304 sec   6                  0.184631         0.19091             0.00666667\n",
       "    2018-03-25 00:16:57  0.321 sec   7                  0.155265         0.151394            0.00666667\n",
       "    2018-03-25 00:16:57  0.336 sec   8                  0.132688         0.120882            0.00666667\n",
       "    2018-03-25 00:16:57  0.351 sec   9                  0.114466         0.0975897           0.00666667\n",
       "    2018-03-25 00:16:57  0.367 sec   10                 0.0988274        0.0782481           0.00666667"
      ]
     },
     "metadata": {},
     "output_type": "display_data"
    },
    {
     "name": "stdout",
     "output_type": "stream",
     "text": [
      "Variable Importances: \n"
     ]
    },
    {
     "data": {
      "text/html": [
       "<div style=\"overflow:auto\"><table style=\"width:50%\"><tr><td><b>variable</b></td>\n",
       "<td><b>relative_importance</b></td>\n",
       "<td><b>scaled_importance</b></td>\n",
       "<td><b>percentage</b></td></tr>\n",
       "<tr><td>C4</td>\n",
       "<td>192.7606506</td>\n",
       "<td>1.0</td>\n",
       "<td>0.7743739</td></tr>\n",
       "<tr><td>C3</td>\n",
       "<td>54.0381165</td>\n",
       "<td>0.2803379</td>\n",
       "<td>0.2170864</td></tr>\n",
       "<tr><td>C1</td>\n",
       "<td>1.3527106</td>\n",
       "<td>0.0070176</td>\n",
       "<td>0.0054342</td></tr>\n",
       "<tr><td>C2</td>\n",
       "<td>0.7730322</td>\n",
       "<td>0.0040103</td>\n",
       "<td>0.0031055</td></tr></table></div>"
      ],
      "text/plain": [
       "variable    relative_importance    scaled_importance    percentage\n",
       "----------  ---------------------  -------------------  ------------\n",
       "C4          192.761                1                    0.774374\n",
       "C3          54.0381                0.280338             0.217086\n",
       "C1          1.35271                0.00701757           0.00543422\n",
       "C2          0.773032               0.00401032           0.00310549"
      ]
     },
     "metadata": {},
     "output_type": "display_data"
    },
    {
     "data": {
      "text/plain": [
       "<bound method ModelBase.biases of >"
      ]
     },
     "execution_count": 10,
     "metadata": {},
     "output_type": "execute_result"
    }
   ],
   "source": [
    "gbm_classifier.biases"
   ]
  },
  {
   "cell_type": "code",
   "execution_count": 11,
   "metadata": {},
   "outputs": [
    {
     "name": "stdout",
     "output_type": "stream",
     "text": [
      "gbm prediction progress: |████████████████████████████████████████████████| 100%\n"
     ]
    }
   ],
   "source": [
    "pred = gbm_classifier.predict(iris_df)"
   ]
  },
  {
   "cell_type": "code",
   "execution_count": 12,
   "metadata": {},
   "outputs": [
    {
     "data": {
      "text/html": [
       "<table>\n",
       "<thead>\n",
       "<tr><th>predict    </th><th style=\"text-align: right;\">  Iris-setosa</th><th style=\"text-align: right;\">  Iris-versicolor</th><th style=\"text-align: right;\">  Iris-virginica</th></tr>\n",
       "</thead>\n",
       "<tbody>\n",
       "<tr><td>Iris-setosa</td><td style=\"text-align: right;\">     0.94839 </td><td style=\"text-align: right;\">        0.0257156</td><td style=\"text-align: right;\">       0.0258941</td></tr>\n",
       "<tr><td>Iris-setosa</td><td style=\"text-align: right;\">     0.94839 </td><td style=\"text-align: right;\">        0.0257156</td><td style=\"text-align: right;\">       0.0258941</td></tr>\n",
       "<tr><td>Iris-setosa</td><td style=\"text-align: right;\">     0.94839 </td><td style=\"text-align: right;\">        0.0257156</td><td style=\"text-align: right;\">       0.0258941</td></tr>\n",
       "<tr><td>Iris-setosa</td><td style=\"text-align: right;\">     0.94839 </td><td style=\"text-align: right;\">        0.0257156</td><td style=\"text-align: right;\">       0.0258941</td></tr>\n",
       "<tr><td>Iris-setosa</td><td style=\"text-align: right;\">     0.94839 </td><td style=\"text-align: right;\">        0.0257156</td><td style=\"text-align: right;\">       0.0258941</td></tr>\n",
       "<tr><td>Iris-setosa</td><td style=\"text-align: right;\">     0.94839 </td><td style=\"text-align: right;\">        0.0257156</td><td style=\"text-align: right;\">       0.0258941</td></tr>\n",
       "<tr><td>Iris-setosa</td><td style=\"text-align: right;\">     0.94839 </td><td style=\"text-align: right;\">        0.0257156</td><td style=\"text-align: right;\">       0.0258941</td></tr>\n",
       "<tr><td>Iris-setosa</td><td style=\"text-align: right;\">     0.94839 </td><td style=\"text-align: right;\">        0.0257156</td><td style=\"text-align: right;\">       0.0258941</td></tr>\n",
       "<tr><td>Iris-setosa</td><td style=\"text-align: right;\">     0.948492</td><td style=\"text-align: right;\">        0.0256666</td><td style=\"text-align: right;\">       0.0258416</td></tr>\n",
       "<tr><td>Iris-setosa</td><td style=\"text-align: right;\">     0.94839 </td><td style=\"text-align: right;\">        0.0257156</td><td style=\"text-align: right;\">       0.0258941</td></tr>\n",
       "</tbody>\n",
       "</table>"
      ]
     },
     "metadata": {},
     "output_type": "display_data"
    },
    {
     "data": {
      "text/plain": []
     },
     "execution_count": 12,
     "metadata": {},
     "output_type": "execute_result"
    }
   ],
   "source": [
    "pred"
   ]
  },
  {
   "cell_type": "code",
   "execution_count": 13,
   "metadata": {},
   "outputs": [
    {
     "data": {
      "text/html": [
       "<table>\n",
       "<thead>\n",
       "<tr><th>predict    </th><th style=\"text-align: right;\">  Iris-setosa</th><th style=\"text-align: right;\">  Iris-versicolor</th><th style=\"text-align: right;\">  Iris-virginica</th></tr>\n",
       "</thead>\n",
       "<tbody>\n",
       "<tr><td>Iris-setosa</td><td style=\"text-align: right;\">     0.94839 </td><td style=\"text-align: right;\">        0.0257156</td><td style=\"text-align: right;\">       0.0258941</td></tr>\n",
       "<tr><td>Iris-setosa</td><td style=\"text-align: right;\">     0.94839 </td><td style=\"text-align: right;\">        0.0257156</td><td style=\"text-align: right;\">       0.0258941</td></tr>\n",
       "<tr><td>Iris-setosa</td><td style=\"text-align: right;\">     0.94839 </td><td style=\"text-align: right;\">        0.0257156</td><td style=\"text-align: right;\">       0.0258941</td></tr>\n",
       "<tr><td>Iris-setosa</td><td style=\"text-align: right;\">     0.94839 </td><td style=\"text-align: right;\">        0.0257156</td><td style=\"text-align: right;\">       0.0258941</td></tr>\n",
       "<tr><td>Iris-setosa</td><td style=\"text-align: right;\">     0.94839 </td><td style=\"text-align: right;\">        0.0257156</td><td style=\"text-align: right;\">       0.0258941</td></tr>\n",
       "<tr><td>Iris-setosa</td><td style=\"text-align: right;\">     0.94839 </td><td style=\"text-align: right;\">        0.0257156</td><td style=\"text-align: right;\">       0.0258941</td></tr>\n",
       "<tr><td>Iris-setosa</td><td style=\"text-align: right;\">     0.94839 </td><td style=\"text-align: right;\">        0.0257156</td><td style=\"text-align: right;\">       0.0258941</td></tr>\n",
       "<tr><td>Iris-setosa</td><td style=\"text-align: right;\">     0.94839 </td><td style=\"text-align: right;\">        0.0257156</td><td style=\"text-align: right;\">       0.0258941</td></tr>\n",
       "<tr><td>Iris-setosa</td><td style=\"text-align: right;\">     0.948492</td><td style=\"text-align: right;\">        0.0256666</td><td style=\"text-align: right;\">       0.0258416</td></tr>\n",
       "<tr><td>Iris-setosa</td><td style=\"text-align: right;\">     0.94839 </td><td style=\"text-align: right;\">        0.0257156</td><td style=\"text-align: right;\">       0.0258941</td></tr>\n",
       "</tbody>\n",
       "</table>"
      ]
     },
     "metadata": {},
     "output_type": "display_data"
    },
    {
     "data": {
      "text/plain": []
     },
     "execution_count": 13,
     "metadata": {},
     "output_type": "execute_result"
    }
   ],
   "source": [
    "pred"
   ]
  },
  {
   "cell_type": "code",
   "execution_count": null,
   "metadata": {},
   "outputs": [],
   "source": []
  }
 ],
 "metadata": {
  "kernelspec": {
   "display_name": "Python 3",
   "language": "python",
   "name": "python3"
  },
  "language_info": {
   "codemirror_mode": {
    "name": "ipython",
    "version": 3
   },
   "file_extension": ".py",
   "mimetype": "text/x-python",
   "name": "python",
   "nbconvert_exporter": "python",
   "pygments_lexer": "ipython3",
   "version": "3.6.3"
  }
 },
 "nbformat": 4,
 "nbformat_minor": 2
}
