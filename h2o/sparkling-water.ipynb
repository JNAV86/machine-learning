{
 "cells": [
  {
   "cell_type": "markdown",
   "metadata": {},
   "source": [
    "## Start Spark and H2O"
   ]
  },
  {
   "cell_type": "markdown",
   "metadata": {},
   "source": [
    "### Create Spark session"
   ]
  },
  {
   "cell_type": "code",
   "execution_count": 1,
   "metadata": {},
   "outputs": [],
   "source": [
    "import pyspark\n",
    "from pyspark.sql import SparkSession, functions"
   ]
  },
  {
   "cell_type": "code",
   "execution_count": 2,
   "metadata": {},
   "outputs": [],
   "source": [
    "spark = SparkSession.builder.appName(\"sparkling\").getOrCreate()"
   ]
  },
  {
   "cell_type": "code",
   "execution_count": 3,
   "metadata": {},
   "outputs": [
    {
     "data": {
      "text/html": [
       "\n",
       "            <div>\n",
       "                <p><b>SparkSession - in-memory</b></p>\n",
       "                \n",
       "        <div>\n",
       "            <p><b>SparkContext</b></p>\n",
       "\n",
       "            <p><a href=\"http://172.31.13.96:4040\">Spark UI</a></p>\n",
       "\n",
       "            <dl>\n",
       "              <dt>Version</dt>\n",
       "                <dd><code>v2.2.1</code></dd>\n",
       "              <dt>Master</dt>\n",
       "                <dd><code>local[*]</code></dd>\n",
       "              <dt>AppName</dt>\n",
       "                <dd><code>sparkling</code></dd>\n",
       "            </dl>\n",
       "        </div>\n",
       "        \n",
       "            </div>\n",
       "        "
      ],
      "text/plain": [
       "<pyspark.sql.session.SparkSession at 0x7fb510048320>"
      ]
     },
     "execution_count": 3,
     "metadata": {},
     "output_type": "execute_result"
    }
   ],
   "source": [
    "spark"
   ]
  },
  {
   "cell_type": "markdown",
   "metadata": {},
   "source": [
    "### Create H2OContext"
   ]
  },
  {
   "cell_type": "code",
   "execution_count": 4,
   "metadata": {},
   "outputs": [],
   "source": [
    "import h2o\n",
    "from pysparkling import H2OContext"
   ]
  },
  {
   "cell_type": "code",
   "execution_count": 5,
   "metadata": {},
   "outputs": [
    {
     "name": "stdout",
     "output_type": "stream",
     "text": [
      "Connecting to H2O server at http://172.31.13.96:54321... successful.\n"
     ]
    },
    {
     "data": {
      "text/html": [
       "<div style=\"overflow:auto\"><table style=\"width:50%\"><tr><td>H2O cluster uptime:</td>\n",
       "<td>10 secs</td></tr>\n",
       "<tr><td>H2O cluster timezone:</td>\n",
       "<td>Etc/UTC</td></tr>\n",
       "<tr><td>H2O data parsing timezone:</td>\n",
       "<td>UTC</td></tr>\n",
       "<tr><td>H2O cluster version:</td>\n",
       "<td>3.18.0.4</td></tr>\n",
       "<tr><td>H2O cluster version age:</td>\n",
       "<td>16 days </td></tr>\n",
       "<tr><td>H2O cluster name:</td>\n",
       "<td>sparkling-water-ubuntu_local-1521928013156</td></tr>\n",
       "<tr><td>H2O cluster total nodes:</td>\n",
       "<td>1</td></tr>\n",
       "<tr><td>H2O cluster free memory:</td>\n",
       "<td>916 Mb</td></tr>\n",
       "<tr><td>H2O cluster total cores:</td>\n",
       "<td>4</td></tr>\n",
       "<tr><td>H2O cluster allowed cores:</td>\n",
       "<td>4</td></tr>\n",
       "<tr><td>H2O cluster status:</td>\n",
       "<td>accepting new members, healthy</td></tr>\n",
       "<tr><td>H2O connection url:</td>\n",
       "<td>http://172.31.13.96:54321</td></tr>\n",
       "<tr><td>H2O connection proxy:</td>\n",
       "<td>None</td></tr>\n",
       "<tr><td>H2O internal security:</td>\n",
       "<td>False</td></tr>\n",
       "<tr><td>H2O API Extensions:</td>\n",
       "<td>XGBoost, Algos, AutoML, Core V3, Core V4</td></tr>\n",
       "<tr><td>Python version:</td>\n",
       "<td>3.6.3 final</td></tr></table></div>"
      ],
      "text/plain": [
       "--------------------------  ------------------------------------------\n",
       "H2O cluster uptime:         10 secs\n",
       "H2O cluster timezone:       Etc/UTC\n",
       "H2O data parsing timezone:  UTC\n",
       "H2O cluster version:        3.18.0.4\n",
       "H2O cluster version age:    16 days\n",
       "H2O cluster name:           sparkling-water-ubuntu_local-1521928013156\n",
       "H2O cluster total nodes:    1\n",
       "H2O cluster free memory:    916 Mb\n",
       "H2O cluster total cores:    4\n",
       "H2O cluster allowed cores:  4\n",
       "H2O cluster status:         accepting new members, healthy\n",
       "H2O connection url:         http://172.31.13.96:54321\n",
       "H2O connection proxy:\n",
       "H2O internal security:      False\n",
       "H2O API Extensions:         XGBoost, Algos, AutoML, Core V3, Core V4\n",
       "Python version:             3.6.3 final\n",
       "--------------------------  ------------------------------------------"
      ]
     },
     "metadata": {},
     "output_type": "display_data"
    },
    {
     "name": "stdout",
     "output_type": "stream",
     "text": [
      "\n",
      "Sparkling Water Context:\n",
      " * H2O name: sparkling-water-ubuntu_local-1521928013156\n",
      " * cluster size: 1\n",
      " * list of used nodes:\n",
      "  (executorId, host, port)\n",
      "  ------------------------\n",
      "  (driver,172.31.13.96,54321)\n",
      "  ------------------------\n",
      "\n",
      "  Open H2O Flow in browser: http://172.31.13.96:54321 (CMD + click in Mac OSX)\n",
      "\n",
      "    \n"
     ]
    }
   ],
   "source": [
    "hc = H2OContext.getOrCreate(spark)"
   ]
  },
  {
   "cell_type": "markdown",
   "metadata": {},
   "source": [
    "## Data\n",
    "\n",
    "### Loading data\n",
    "\n",
    "Here we load using H2O and move to Spark DFs because its easy to use `h2o.import_file`\n",
    "but in general would be more common to use just Spark to load from HDFS for example."
   ]
  },
  {
   "cell_type": "code",
   "execution_count": 6,
   "metadata": {},
   "outputs": [
    {
     "name": "stdout",
     "output_type": "stream",
     "text": [
      "Parse progress: |█████████████████████████████████████████████████████████| 100%\n",
      "Parse progress: |█████████████████████████████████████████████████████████| 100%\n"
     ]
    }
   ],
   "source": [
    "allFlights = h2o.import_file(path=\"http://h2o-public-test-data.s3.amazonaws.com/smalldata/airlines/year2005.csv.gz\")\n",
    "weatherTable = h2o.import_file(path=\"http://h2o-public-test-data.s3.amazonaws.com/smalldata/chicago/Chicago_Ohare_International_Airport.csv\")"
   ]
  },
  {
   "cell_type": "code",
   "execution_count": 7,
   "metadata": {},
   "outputs": [
    {
     "data": {
      "text/html": [
       "<table>\n",
       "<thead>\n",
       "<tr><th style=\"text-align: right;\">  Year</th><th style=\"text-align: right;\">  Month</th><th style=\"text-align: right;\">  DayofMonth</th><th style=\"text-align: right;\">  DayOfWeek</th><th style=\"text-align: right;\">  DepTime</th><th style=\"text-align: right;\">  CRSDepTime</th><th style=\"text-align: right;\">  ArrTime</th><th style=\"text-align: right;\">  CRSArrTime</th><th>UniqueCarrier  </th><th style=\"text-align: right;\">  FlightNum</th><th>TailNum  </th><th style=\"text-align: right;\">  ActualElapsedTime</th><th style=\"text-align: right;\">  CRSElapsedTime</th><th style=\"text-align: right;\">  AirTime</th><th style=\"text-align: right;\">  ArrDelay</th><th style=\"text-align: right;\">  DepDelay</th><th>Origin  </th><th>Dest  </th><th style=\"text-align: right;\">  Distance</th><th style=\"text-align: right;\">  TaxiIn</th><th style=\"text-align: right;\">  TaxiOut</th><th style=\"text-align: right;\">  Cancelled</th><th>CancellationCode  </th><th style=\"text-align: right;\">  Diverted</th><th style=\"text-align: right;\">  CarrierDelay</th><th style=\"text-align: right;\">  WeatherDelay</th><th style=\"text-align: right;\">  NASDelay</th><th style=\"text-align: right;\">  SecurityDelay</th><th style=\"text-align: right;\">  LateAircraftDelay</th><th>IsArrDelayed  </th><th>IsDepDelayed  </th></tr>\n",
       "</thead>\n",
       "<tbody>\n",
       "<tr><td style=\"text-align: right;\">  2005</td><td style=\"text-align: right;\">      6</td><td style=\"text-align: right;\">          19</td><td style=\"text-align: right;\">          7</td><td style=\"text-align: right;\">     1948</td><td style=\"text-align: right;\">        1950</td><td style=\"text-align: right;\">     2316</td><td style=\"text-align: right;\">        2124</td><td>OH             </td><td style=\"text-align: right;\">       5321</td><td>N403CA   </td><td style=\"text-align: right;\">                208</td><td style=\"text-align: right;\">              94</td><td style=\"text-align: right;\">      192</td><td style=\"text-align: right;\">       112</td><td style=\"text-align: right;\">        -2</td><td>CVG     </td><td>AVP   </td><td style=\"text-align: right;\">       499</td><td style=\"text-align: right;\">       3</td><td style=\"text-align: right;\">       13</td><td style=\"text-align: right;\">          0</td><td>                  </td><td style=\"text-align: right;\">         0</td><td style=\"text-align: right;\">             0</td><td style=\"text-align: right;\">             0</td><td style=\"text-align: right;\">       112</td><td style=\"text-align: right;\">              0</td><td style=\"text-align: right;\">                  0</td><td>YES           </td><td>NO            </td></tr>\n",
       "<tr><td style=\"text-align: right;\">  2005</td><td style=\"text-align: right;\">      3</td><td style=\"text-align: right;\">          28</td><td style=\"text-align: right;\">          1</td><td style=\"text-align: right;\">     2035</td><td style=\"text-align: right;\">        1908</td><td style=\"text-align: right;\">     2217</td><td style=\"text-align: right;\">        2104</td><td>EV             </td><td style=\"text-align: right;\">       4392</td><td>N931EV   </td><td style=\"text-align: right;\">                102</td><td style=\"text-align: right;\">             116</td><td style=\"text-align: right;\">       90</td><td style=\"text-align: right;\">        73</td><td style=\"text-align: right;\">        87</td><td>ATL     </td><td>GRR   </td><td style=\"text-align: right;\">       640</td><td style=\"text-align: right;\">       2</td><td style=\"text-align: right;\">       10</td><td style=\"text-align: right;\">          0</td><td>                  </td><td style=\"text-align: right;\">         0</td><td style=\"text-align: right;\">             2</td><td style=\"text-align: right;\">            71</td><td style=\"text-align: right;\">         0</td><td style=\"text-align: right;\">              0</td><td style=\"text-align: right;\">                  0</td><td>YES           </td><td>YES           </td></tr>\n",
       "<tr><td style=\"text-align: right;\">  2005</td><td style=\"text-align: right;\">      8</td><td style=\"text-align: right;\">           8</td><td style=\"text-align: right;\">          1</td><td style=\"text-align: right;\">     1035</td><td style=\"text-align: right;\">        1035</td><td style=\"text-align: right;\">     1701</td><td style=\"text-align: right;\">        1640</td><td>WN             </td><td style=\"text-align: right;\">       1972</td><td>N445     </td><td style=\"text-align: right;\">                266</td><td style=\"text-align: right;\">             245</td><td style=\"text-align: right;\">      233</td><td style=\"text-align: right;\">        21</td><td style=\"text-align: right;\">         0</td><td>SLC     </td><td>BWI   </td><td style=\"text-align: right;\">      1864</td><td style=\"text-align: right;\">       5</td><td style=\"text-align: right;\">       28</td><td style=\"text-align: right;\">          0</td><td>                  </td><td style=\"text-align: right;\">         0</td><td style=\"text-align: right;\">             0</td><td style=\"text-align: right;\">             0</td><td style=\"text-align: right;\">        21</td><td style=\"text-align: right;\">              0</td><td style=\"text-align: right;\">                  0</td><td>YES           </td><td>NO            </td></tr>\n",
       "<tr><td style=\"text-align: right;\">  2005</td><td style=\"text-align: right;\">      7</td><td style=\"text-align: right;\">           8</td><td style=\"text-align: right;\">          5</td><td style=\"text-align: right;\">      902</td><td style=\"text-align: right;\">         905</td><td style=\"text-align: right;\">      936</td><td style=\"text-align: right;\">         952</td><td>MQ             </td><td style=\"text-align: right;\">       3922</td><td>N648AE   </td><td style=\"text-align: right;\">                 34</td><td style=\"text-align: right;\">              47</td><td style=\"text-align: right;\">       24</td><td style=\"text-align: right;\">       -16</td><td style=\"text-align: right;\">        -3</td><td>ORD     </td><td>MSN   </td><td style=\"text-align: right;\">       109</td><td style=\"text-align: right;\">       2</td><td style=\"text-align: right;\">        8</td><td style=\"text-align: right;\">          0</td><td>                  </td><td style=\"text-align: right;\">         0</td><td style=\"text-align: right;\">             0</td><td style=\"text-align: right;\">             0</td><td style=\"text-align: right;\">         0</td><td style=\"text-align: right;\">              0</td><td style=\"text-align: right;\">                  0</td><td>NO            </td><td>NO            </td></tr>\n",
       "<tr><td style=\"text-align: right;\">  2005</td><td style=\"text-align: right;\">      6</td><td style=\"text-align: right;\">          13</td><td style=\"text-align: right;\">          1</td><td style=\"text-align: right;\">     2020</td><td style=\"text-align: right;\">        2015</td><td style=\"text-align: right;\">     2158</td><td style=\"text-align: right;\">        2135</td><td>UA             </td><td style=\"text-align: right;\">       1181</td><td>N914UA   </td><td style=\"text-align: right;\">                158</td><td style=\"text-align: right;\">             140</td><td style=\"text-align: right;\">      126</td><td style=\"text-align: right;\">        23</td><td style=\"text-align: right;\">         5</td><td>DEN     </td><td>BUR   </td><td style=\"text-align: right;\">       850</td><td style=\"text-align: right;\">       9</td><td style=\"text-align: right;\">       23</td><td style=\"text-align: right;\">          0</td><td>                  </td><td style=\"text-align: right;\">         0</td><td style=\"text-align: right;\">             0</td><td style=\"text-align: right;\">             0</td><td style=\"text-align: right;\">        23</td><td style=\"text-align: right;\">              0</td><td style=\"text-align: right;\">                  0</td><td>YES           </td><td>YES           </td></tr>\n",
       "</tbody>\n",
       "</table>"
      ]
     },
     "metadata": {},
     "output_type": "display_data"
    },
    {
     "data": {
      "text/plain": []
     },
     "execution_count": 7,
     "metadata": {},
     "output_type": "execute_result"
    }
   ],
   "source": [
    "allFlights.head(5)"
   ]
  },
  {
   "cell_type": "code",
   "execution_count": 8,
   "metadata": {},
   "outputs": [
    {
     "data": {
      "text/html": [
       "<table>\n",
       "<thead>\n",
       "<tr><th>Date               </th><th style=\"text-align: right;\">  TmaxF</th><th style=\"text-align: right;\">  TminF</th><th style=\"text-align: right;\">  TmeanF</th><th style=\"text-align: right;\">  PrcpIn</th><th style=\"text-align: right;\">  SnowIn</th><th style=\"text-align: right;\">  CDD</th><th style=\"text-align: right;\">  HDD</th><th style=\"text-align: right;\">  GDD</th></tr>\n",
       "</thead>\n",
       "<tbody>\n",
       "<tr><td>2005-01-01 00:00:00</td><td style=\"text-align: right;\">     41</td><td style=\"text-align: right;\">     25</td><td style=\"text-align: right;\">    33  </td><td style=\"text-align: right;\">    0.31</td><td style=\"text-align: right;\">     0  </td><td style=\"text-align: right;\">    0</td><td style=\"text-align: right;\"> 32  </td><td style=\"text-align: right;\">    0</td></tr>\n",
       "<tr><td>2005-01-02 00:00:00</td><td style=\"text-align: right;\">     54</td><td style=\"text-align: right;\">     33</td><td style=\"text-align: right;\">    43.5</td><td style=\"text-align: right;\">    0.08</td><td style=\"text-align: right;\">     0  </td><td style=\"text-align: right;\">    0</td><td style=\"text-align: right;\"> 21.5</td><td style=\"text-align: right;\">    0</td></tr>\n",
       "<tr><td>2005-01-03 00:00:00</td><td style=\"text-align: right;\">     36</td><td style=\"text-align: right;\">     32</td><td style=\"text-align: right;\">    34  </td><td style=\"text-align: right;\">    0.36</td><td style=\"text-align: right;\">     0  </td><td style=\"text-align: right;\">    0</td><td style=\"text-align: right;\"> 31  </td><td style=\"text-align: right;\">    0</td></tr>\n",
       "<tr><td>2005-01-04 00:00:00</td><td style=\"text-align: right;\">     35</td><td style=\"text-align: right;\">     30</td><td style=\"text-align: right;\">    32.5</td><td style=\"text-align: right;\">    0.05</td><td style=\"text-align: right;\">     1.2</td><td style=\"text-align: right;\">    0</td><td style=\"text-align: right;\"> 32.5</td><td style=\"text-align: right;\">    0</td></tr>\n",
       "<tr><td>2005-01-05 00:00:00</td><td style=\"text-align: right;\">     31</td><td style=\"text-align: right;\">     26</td><td style=\"text-align: right;\">    28.5</td><td style=\"text-align: right;\">    0.38</td><td style=\"text-align: right;\">     6.2</td><td style=\"text-align: right;\">    0</td><td style=\"text-align: right;\"> 36.5</td><td style=\"text-align: right;\">    0</td></tr>\n",
       "</tbody>\n",
       "</table>"
      ]
     },
     "metadata": {},
     "output_type": "display_data"
    },
    {
     "data": {
      "text/plain": []
     },
     "execution_count": 8,
     "metadata": {},
     "output_type": "execute_result"
    }
   ],
   "source": [
    "weatherTable.head(5)"
   ]
  },
  {
   "cell_type": "code",
   "execution_count": 9,
   "metadata": {},
   "outputs": [],
   "source": [
    "allFlightsDF = hc.as_spark_frame(allFlights)\n",
    "weatherTableDF = hc.as_spark_frame(weatherTable)"
   ]
  },
  {
   "cell_type": "code",
   "execution_count": 10,
   "metadata": {},
   "outputs": [
    {
     "data": {
      "text/plain": [
       "(100000,\n",
       " Row(Year=2005, Month=6, DayofMonth=19, DayOfWeek=7, DepTime=1948, CRSDepTime=1950, ArrTime=2316, CRSArrTime=2124, UniqueCarrier='OH', FlightNum=5321, TailNum='N403CA', ActualElapsedTime=208, CRSElapsedTime=94, AirTime=192, ArrDelay=112, DepDelay=-2, Origin='CVG', Dest='AVP', Distance=499, TaxiIn=3, TaxiOut=13, Cancelled=0, CancellationCode=None, Diverted=0, CarrierDelay=0, WeatherDelay=0, NASDelay=112, SecurityDelay=0, LateAircraftDelay=0, IsArrDelayed='YES', IsDepDelayed='NO'))"
      ]
     },
     "execution_count": 10,
     "metadata": {},
     "output_type": "execute_result"
    }
   ],
   "source": [
    "allFlightsDF.count(), allFlightsDF.head()"
   ]
  },
  {
   "cell_type": "code",
   "execution_count": 11,
   "metadata": {},
   "outputs": [
    {
     "data": {
      "text/plain": [
       "(1461,\n",
       " Row(Date=datetime.datetime(2005, 1, 1, 0, 0), TmaxF=41, TminF=25, TmeanF=33.0, PrcpIn=0.31, SnowIn=0.0, CDD=0.0, HDD=32.0, GDD=0.0))"
      ]
     },
     "execution_count": 11,
     "metadata": {},
     "output_type": "execute_result"
    }
   ],
   "source": [
    "weatherTableDF.count(), weatherTableDF.head()"
   ]
  },
  {
   "cell_type": "markdown",
   "metadata": {},
   "source": [
    "### Clean data using Spark"
   ]
  },
  {
   "cell_type": "code",
   "execution_count": 12,
   "metadata": {},
   "outputs": [],
   "source": [
    "flightsToORD = allFlightsDF.filter(allFlightsDF.Dest == \"ORD\")"
   ]
  },
  {
   "cell_type": "code",
   "execution_count": 13,
   "metadata": {},
   "outputs": [
    {
     "data": {
      "text/plain": [
       "4690"
      ]
     },
     "execution_count": 13,
     "metadata": {},
     "output_type": "execute_result"
    }
   ],
   "source": [
    "flightsToORD.count()"
   ]
  },
  {
   "cell_type": "code",
   "execution_count": 14,
   "metadata": {},
   "outputs": [],
   "source": [
    "datasetDF = flightsToORD.join(weatherTableDF, (flightsToORD.Year == functions.year(weatherTableDF.Date)) & \n",
    "                                              (flightsToORD.Month == functions.month(weatherTableDF.Date)) &\n",
    "                                              (flightsToORD.DayofMonth == functions.dayofmonth(weatherTableDF.Date))\n",
    "                             )"
   ]
  },
  {
   "cell_type": "code",
   "execution_count": 15,
   "metadata": {},
   "outputs": [
    {
     "data": {
      "text/plain": [
       "4690"
      ]
     },
     "execution_count": 15,
     "metadata": {},
     "output_type": "execute_result"
    }
   ],
   "source": [
    "datasetDF.count()"
   ]
  },
  {
   "cell_type": "code",
   "execution_count": 16,
   "metadata": {},
   "outputs": [
    {
     "data": {
      "text/plain": [
       "Row(Year=2005, Month=1, DayofMonth=15, DayOfWeek=6, DepTime=1106, CRSDepTime=1050, ArrTime=1202, CRSArrTime=1151, UniqueCarrier='DH', FlightNum=1158, TailNum='N662BR', ActualElapsedTime=116, CRSElapsedTime=121, AirTime=98, ArrDelay=11, DepDelay=16, Origin='IAD', Dest='ORD', Distance=589, TaxiIn=4, TaxiOut=13, Cancelled=0, CancellationCode=None, Diverted=0, CarrierDelay=0, WeatherDelay=0, NASDelay=0, SecurityDelay=0, LateAircraftDelay=0, IsArrDelayed='YES', IsDepDelayed='YES', Date=datetime.datetime(2005, 1, 15, 0, 0), TmaxF=15, TminF=4, TmeanF=9.5, PrcpIn=0.0, SnowIn=0.0, CDD=0.0, HDD=55.5, GDD=0.0)"
      ]
     },
     "execution_count": 16,
     "metadata": {},
     "output_type": "execute_result"
    }
   ],
   "source": [
    "datasetDF.head()"
   ]
  },
  {
   "cell_type": "code",
   "execution_count": 17,
   "metadata": {},
   "outputs": [],
   "source": [
    "datasetDF = datasetDF.select(\"Year\", \"Month\", \"DayofMonth\", \"CRSDepTime\", \"CRSArrTime\", \"CRSElapsedTime\",\n",
    "                 \"UniqueCarrier\", \"FlightNum\", \"TailNum\", \"Origin\", \"Distance\",\n",
    "                 \"TmaxF\", \"TminF\", \"TmeanF\", \"PrcpIn\", \"SnowIn\", \"CDD\", \"HDD\", \"GDD\", \"ArrDelay\")"
   ]
  },
  {
   "cell_type": "markdown",
   "metadata": {},
   "source": [
    "## Build model\n",
    "\n",
    "We take the SparkDF make it an H2OFrame to train a model"
   ]
  },
  {
   "cell_type": "code",
   "execution_count": 18,
   "metadata": {},
   "outputs": [],
   "source": [
    "from h2o.estimators.deeplearning import H2ODeepLearningEstimator"
   ]
  },
  {
   "cell_type": "code",
   "execution_count": 19,
   "metadata": {},
   "outputs": [],
   "source": [
    "flightsWithWeather = hc.as_h2o_frame(datasetDF)"
   ]
  },
  {
   "cell_type": "code",
   "execution_count": 20,
   "metadata": {},
   "outputs": [
    {
     "data": {
      "text/html": [
       "<table>\n",
       "<thead>\n",
       "<tr><th style=\"text-align: right;\">  Year</th><th style=\"text-align: right;\">  Month</th><th style=\"text-align: right;\">  DayofMonth</th><th style=\"text-align: right;\">  CRSDepTime</th><th style=\"text-align: right;\">  CRSArrTime</th><th style=\"text-align: right;\">  CRSElapsedTime</th><th>UniqueCarrier  </th><th style=\"text-align: right;\">  FlightNum</th><th>TailNum  </th><th>Origin  </th><th style=\"text-align: right;\">  Distance</th><th style=\"text-align: right;\">  TmaxF</th><th style=\"text-align: right;\">  TminF</th><th style=\"text-align: right;\">  TmeanF</th><th style=\"text-align: right;\">  PrcpIn</th><th style=\"text-align: right;\">  SnowIn</th><th style=\"text-align: right;\">  CDD</th><th style=\"text-align: right;\">  HDD</th><th style=\"text-align: right;\">  GDD</th><th style=\"text-align: right;\">  ArrDelay</th></tr>\n",
       "</thead>\n",
       "<tbody>\n",
       "<tr><td style=\"text-align: right;\">  2005</td><td style=\"text-align: right;\">      1</td><td style=\"text-align: right;\">          15</td><td style=\"text-align: right;\">        1050</td><td style=\"text-align: right;\">        1151</td><td style=\"text-align: right;\">             121</td><td>DH             </td><td style=\"text-align: right;\">       1158</td><td>N662BR   </td><td>IAD     </td><td style=\"text-align: right;\">       589</td><td style=\"text-align: right;\">     15</td><td style=\"text-align: right;\">      4</td><td style=\"text-align: right;\">     9.5</td><td style=\"text-align: right;\">       0</td><td style=\"text-align: right;\">       0</td><td style=\"text-align: right;\">    0</td><td style=\"text-align: right;\"> 55.5</td><td style=\"text-align: right;\">    0</td><td style=\"text-align: right;\">        11</td></tr>\n",
       "<tr><td style=\"text-align: right;\">  2005</td><td style=\"text-align: right;\">      1</td><td style=\"text-align: right;\">          15</td><td style=\"text-align: right;\">         835</td><td style=\"text-align: right;\">        1000</td><td style=\"text-align: right;\">              85</td><td>MQ             </td><td style=\"text-align: right;\">       4042</td><td>N811AE   </td><td>SGF     </td><td style=\"text-align: right;\">       438</td><td style=\"text-align: right;\">     15</td><td style=\"text-align: right;\">      4</td><td style=\"text-align: right;\">     9.5</td><td style=\"text-align: right;\">       0</td><td style=\"text-align: right;\">       0</td><td style=\"text-align: right;\">    0</td><td style=\"text-align: right;\"> 55.5</td><td style=\"text-align: right;\">    0</td><td style=\"text-align: right;\">       -10</td></tr>\n",
       "<tr><td style=\"text-align: right;\">  2005</td><td style=\"text-align: right;\">      1</td><td style=\"text-align: right;\">          15</td><td style=\"text-align: right;\">        1228</td><td style=\"text-align: right;\">        1315</td><td style=\"text-align: right;\">             107</td><td>MQ             </td><td style=\"text-align: right;\">       4168</td><td>N523AE   </td><td>BUF     </td><td style=\"text-align: right;\">       473</td><td style=\"text-align: right;\">     15</td><td style=\"text-align: right;\">      4</td><td style=\"text-align: right;\">     9.5</td><td style=\"text-align: right;\">       0</td><td style=\"text-align: right;\">       0</td><td style=\"text-align: right;\">    0</td><td style=\"text-align: right;\"> 55.5</td><td style=\"text-align: right;\">    0</td><td style=\"text-align: right;\">        -7</td></tr>\n",
       "<tr><td style=\"text-align: right;\">  2005</td><td style=\"text-align: right;\">      1</td><td style=\"text-align: right;\">          15</td><td style=\"text-align: right;\">         647</td><td style=\"text-align: right;\">         822</td><td style=\"text-align: right;\">              95</td><td>MQ             </td><td style=\"text-align: right;\">       3954</td><td>N815AE   </td><td>MEM     </td><td style=\"text-align: right;\">       491</td><td style=\"text-align: right;\">     15</td><td style=\"text-align: right;\">      4</td><td style=\"text-align: right;\">     9.5</td><td style=\"text-align: right;\">       0</td><td style=\"text-align: right;\">       0</td><td style=\"text-align: right;\">    0</td><td style=\"text-align: right;\"> 55.5</td><td style=\"text-align: right;\">    0</td><td style=\"text-align: right;\">        29</td></tr>\n",
       "<tr><td style=\"text-align: right;\">  2005</td><td style=\"text-align: right;\">      1</td><td style=\"text-align: right;\">          15</td><td style=\"text-align: right;\">        1100</td><td style=\"text-align: right;\">        1236</td><td style=\"text-align: right;\">             156</td><td>AA             </td><td style=\"text-align: right;\">        321</td><td>N4XTAA   </td><td>LGA     </td><td style=\"text-align: right;\">       733</td><td style=\"text-align: right;\">     15</td><td style=\"text-align: right;\">      4</td><td style=\"text-align: right;\">     9.5</td><td style=\"text-align: right;\">       0</td><td style=\"text-align: right;\">       0</td><td style=\"text-align: right;\">    0</td><td style=\"text-align: right;\"> 55.5</td><td style=\"text-align: right;\">    0</td><td style=\"text-align: right;\">       -18</td></tr>\n",
       "</tbody>\n",
       "</table>"
      ]
     },
     "metadata": {},
     "output_type": "display_data"
    },
    {
     "data": {
      "text/plain": []
     },
     "execution_count": 20,
     "metadata": {},
     "output_type": "execute_result"
    }
   ],
   "source": [
    "flightsWithWeather.head(5)"
   ]
  },
  {
   "cell_type": "code",
   "execution_count": 21,
   "metadata": {},
   "outputs": [],
   "source": [
    "train, valid, test = flightsWithWeather.split_frame(ratios=[.7, .15])"
   ]
  },
  {
   "cell_type": "code",
   "execution_count": 22,
   "metadata": {},
   "outputs": [],
   "source": [
    "predictor_columns = list(range(0, flightsWithWeather.ncol - 1))\n",
    "target_col = flightsWithWeather.ncol - 1"
   ]
  },
  {
   "cell_type": "code",
   "execution_count": 36,
   "metadata": {},
   "outputs": [],
   "source": [
    "dl_model = H2ODeepLearningEstimator(hidden=[100, 100], epochs=5)"
   ]
  },
  {
   "cell_type": "code",
   "execution_count": 37,
   "metadata": {},
   "outputs": [
    {
     "name": "stdout",
     "output_type": "stream",
     "text": [
      "deeplearning Model Build progress: |██████████████████████████████████████| 100%\n"
     ]
    }
   ],
   "source": [
    "dl_model.train(x=predictor_columns, y=target_col, training_frame=train, validation_frame=valid)"
   ]
  },
  {
   "cell_type": "code",
   "execution_count": 38,
   "metadata": {},
   "outputs": [
    {
     "name": "stdout",
     "output_type": "stream",
     "text": [
      "\n",
      "ModelMetricsRegression: deeplearning\n",
      "** Reported on test data. **\n",
      "\n",
      "MSE: 1643.4886249256167\n",
      "RMSE: 40.539963306910096\n",
      "MAE: 21.379430026187702\n",
      "RMSLE: NaN\n",
      "Mean Residual Deviance: 1643.4886249256167\n"
     ]
    },
    {
     "data": {
      "text/plain": []
     },
     "execution_count": 38,
     "metadata": {},
     "output_type": "execute_result"
    }
   ],
   "source": [
    "dl_model.model_performance(test)"
   ]
  },
  {
   "cell_type": "code",
   "execution_count": 32,
   "metadata": {},
   "outputs": [
    {
     "data": {
      "text/html": [
       "<table>\n",
       "<thead>\n",
       "<tr><th style=\"text-align: right;\">  ArrDelay</th></tr>\n",
       "</thead>\n",
       "<tbody>\n",
       "<tr><td style=\"text-align: right;\">        59</td></tr>\n",
       "<tr><td style=\"text-align: right;\">       nan</td></tr>\n",
       "<tr><td style=\"text-align: right;\">       -14</td></tr>\n",
       "<tr><td style=\"text-align: right;\">       100</td></tr>\n",
       "<tr><td style=\"text-align: right;\">        10</td></tr>\n",
       "</tbody>\n",
       "</table>"
      ]
     },
     "metadata": {},
     "output_type": "display_data"
    },
    {
     "data": {
      "text/plain": []
     },
     "execution_count": 32,
     "metadata": {},
     "output_type": "execute_result"
    }
   ],
   "source": [
    "test[\"ArrDelay\"].head(5)"
   ]
  },
  {
   "cell_type": "code",
   "execution_count": 33,
   "metadata": {},
   "outputs": [
    {
     "name": "stdout",
     "output_type": "stream",
     "text": [
      "deeplearning prediction progress: |███████████████████████████████████████| 100%\n"
     ]
    },
    {
     "data": {
      "text/html": [
       "<table>\n",
       "<thead>\n",
       "<tr><th style=\"text-align: right;\">  predict</th></tr>\n",
       "</thead>\n",
       "<tbody>\n",
       "<tr><td style=\"text-align: right;\">  17.3427</td></tr>\n",
       "<tr><td style=\"text-align: right;\">  25.6626</td></tr>\n",
       "<tr><td style=\"text-align: right;\">  43.4875</td></tr>\n",
       "<tr><td style=\"text-align: right;\">  26.1504</td></tr>\n",
       "<tr><td style=\"text-align: right;\">  21.8099</td></tr>\n",
       "</tbody>\n",
       "</table>"
      ]
     },
     "metadata": {},
     "output_type": "display_data"
    },
    {
     "data": {
      "text/plain": []
     },
     "execution_count": 33,
     "metadata": {},
     "output_type": "execute_result"
    }
   ],
   "source": [
    "dl_model.predict(test.head(5))"
   ]
  },
  {
   "cell_type": "code",
   "execution_count": null,
   "metadata": {},
   "outputs": [],
   "source": []
  }
 ],
 "metadata": {
  "kernelspec": {
   "display_name": "Python 3",
   "language": "python",
   "name": "python3"
  },
  "language_info": {
   "codemirror_mode": {
    "name": "ipython",
    "version": 3
   },
   "file_extension": ".py",
   "mimetype": "text/x-python",
   "name": "python",
   "nbconvert_exporter": "python",
   "pygments_lexer": "ipython3",
   "version": "3.6.3"
  }
 },
 "nbformat": 4,
 "nbformat_minor": 2
}
