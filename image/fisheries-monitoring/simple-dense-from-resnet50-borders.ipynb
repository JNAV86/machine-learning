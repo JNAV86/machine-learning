{
 "cells": [
  {
   "cell_type": "markdown",
   "metadata": {},
   "source": [
    "Use the precalculated output from resnet50 and train a Dense (FC) model with two outputs\n",
    "\n",
    "1. class of the fish (task of the problem)\n",
    "2. boxes of the fish"
   ]
  },
  {
   "cell_type": "code",
   "execution_count": 1,
   "metadata": {},
   "outputs": [],
   "source": [
    "%load_ext autoreload\n",
    "%autoreload 2"
   ]
  },
  {
   "cell_type": "code",
   "execution_count": 2,
   "metadata": {},
   "outputs": [],
   "source": [
    "import bcolz\n",
    "\n",
    "from tensorflow.contrib.keras import layers\n",
    "from tensorflow.contrib.keras import models\n",
    "from tensorflow.contrib.keras import optimizers\n",
    "from tensorflow.contrib.keras import applications"
   ]
  },
  {
   "cell_type": "code",
   "execution_count": 3,
   "metadata": {},
   "outputs": [],
   "source": [
    "def load_array(fname):\n",
    "    return bcolz.open(fname)[:]"
   ]
  },
  {
   "cell_type": "code",
   "execution_count": 4,
   "metadata": {},
   "outputs": [],
   "source": [
    "train_conv_layers = load_array('./data/resnet50/train_conv.arr')\n",
    "train_labels = load_array('./data/resnet50/train_labels.arr')\n",
    "train_borders = load_array('./data/resnet50/train_borders.arr')\n",
    "valid_conv_layers = load_array('./data/resnet50/valid_conv.arr')\n",
    "valid_labels = load_array('./data/resnet50/valid_labels.arr')\n",
    "valid_borders = load_array('./data/resnet50/valid_borders.arr')"
   ]
  },
  {
   "cell_type": "code",
   "execution_count": 5,
   "metadata": {},
   "outputs": [
    {
     "data": {
      "text/plain": [
       "((3025, 2048), (3025, 8), (3025, 4))"
      ]
     },
     "execution_count": 5,
     "metadata": {},
     "output_type": "execute_result"
    }
   ],
   "source": [
    "train_conv_layers.shape, train_labels.shape, train_borders.shape"
   ]
  },
  {
   "cell_type": "code",
   "execution_count": 6,
   "metadata": {},
   "outputs": [
    {
     "data": {
      "text/plain": [
       "((752, 2048), (752, 8), (752, 4))"
      ]
     },
     "execution_count": 6,
     "metadata": {},
     "output_type": "execute_result"
    }
   ],
   "source": [
    "valid_conv_layers.shape, valid_labels.shape, valid_borders.shape"
   ]
  },
  {
   "cell_type": "code",
   "execution_count": 29,
   "metadata": {},
   "outputs": [],
   "source": [
    "inp = layers.Input(shape=(2048,), dtype='float32')"
   ]
  },
  {
   "cell_type": "code",
   "execution_count": 30,
   "metadata": {},
   "outputs": [],
   "source": [
    "p = 0.6\n",
    "x = layers.Dense(512, activation='relu')(inp)\n",
    "x = layers.BatchNormalization()(x)\n",
    "x = layers.Dropout(p)(x)\n",
    "x = layers.Dense(512, activation='relu')(x)\n",
    "x = layers.BatchNormalization()(x)\n",
    "x = layers.Dropout(p / 2)(x)\n",
    "x_bb = layers.Dense(4, name='bb')(x)\n",
    "x_class = layers.Dense(8, activation='softmax', name='class')(x)"
   ]
  },
  {
   "cell_type": "code",
   "execution_count": 31,
   "metadata": {},
   "outputs": [],
   "source": [
    "model = models.Model(inp, [x_class, x_bb])"
   ]
  },
  {
   "cell_type": "code",
   "execution_count": 32,
   "metadata": {},
   "outputs": [],
   "source": [
    "model.compile(optimizers.Adam(lr=0.001), loss=['categorical_crossentropy', 'mse'], metrics=['accuracy'], loss_weights=[1., 0.001])"
   ]
  },
  {
   "cell_type": "code",
   "execution_count": null,
   "metadata": {},
   "outputs": [],
   "source": [
    "model.fit(train_conv_layers, [train_labels, train_borders], \n",
    "          validation_data=(valid_conv_layers, [valid_labels, valid_borders]), \n",
    "          batch_size=64, epochs=5) "
   ]
  },
  {
   "cell_type": "markdown",
   "metadata": {},
   "source": [
    "After 15-20 epochs we got `loss: 0.5580 - class_loss: 0.1346 - bb_loss: 423.3748 - class_acc: 0.9570 - bb_acc: 0.7504 - val_loss: 0.7270 - val_class_loss: 0.3077 - val_bb_loss: 419.2943 - val_class_acc: 0.9269 - val_bb_acc: 0.7447`"
   ]
  },
  {
   "cell_type": "markdown",
   "metadata": {},
   "source": [
    "## Submission"
   ]
  },
  {
   "cell_type": "code",
   "execution_count": 36,
   "metadata": {},
   "outputs": [],
   "source": [
    "import submission"
   ]
  },
  {
   "cell_type": "code",
   "execution_count": 37,
   "metadata": {},
   "outputs": [],
   "source": [
    "test_conv_layers = load_array('./data/resnet50/test_conv.arr')"
   ]
  },
  {
   "cell_type": "code",
   "execution_count": 38,
   "metadata": {},
   "outputs": [],
   "source": [
    "test_filenames = load_array('./data/resnet50/test_filenames.arr')"
   ]
  },
  {
   "cell_type": "code",
   "execution_count": 39,
   "metadata": {},
   "outputs": [],
   "source": [
    "preds = model.predict(test_conv_layers)"
   ]
  },
  {
   "cell_type": "code",
   "execution_count": 45,
   "metadata": {},
   "outputs": [],
   "source": [
    "submission.gen_file(preds=preds[0], filenames=test_filenames, clip=True)"
   ]
  },
  {
   "cell_type": "markdown",
   "metadata": {},
   "source": [
    "This gave a score of :\n",
    "- public: 1.42140\n",
    "- private: 2.35819\n",
    "\n",
    "In general a little better than the just Dense model since is exactly the same model with two outputs instead of one."
   ]
  },
  {
   "cell_type": "code",
   "execution_count": null,
   "metadata": {},
   "outputs": [],
   "source": []
  }
 ],
 "metadata": {
  "kernelspec": {
   "display_name": "Python 3",
   "language": "python",
   "name": "python3"
  },
  "language_info": {
   "codemirror_mode": {
    "name": "ipython",
    "version": 3
   },
   "file_extension": ".py",
   "mimetype": "text/x-python",
   "name": "python",
   "nbconvert_exporter": "python",
   "pygments_lexer": "ipython3",
   "version": "3.6.1"
  }
 },
 "nbformat": 4,
 "nbformat_minor": 2
}
